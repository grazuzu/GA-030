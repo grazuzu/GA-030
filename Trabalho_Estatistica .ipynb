{
  "nbformat": 4,
  "nbformat_minor": 0,
  "metadata": {
    "colab": {
      "provenance": [],
      "collapsed_sections": [
        "f3ldbABpQVMg",
        "pcm1p3xCahCp",
        "qs3J-nLCaupF",
        "z6hMeQKWeuw1"
      ]
    },
    "kernelspec": {
      "name": "python3",
      "display_name": "Python 3"
    },
    "language_info": {
      "name": "python"
    }
  },
  "cells": [
    {
      "cell_type": "markdown",
      "source": [
        "#Exemplos"
      ],
      "metadata": {
        "id": "GXkR8yFrToT3"
      }
    },
    {
      "cell_type": "code",
      "source": [
        "import pandas as pd\n",
        "import numpy as np\n",
        "import matplotlib.pyplot as plt\n",
        "import scipy.stats as stats"
      ],
      "metadata": {
        "id": "YxRoRC5KToT4"
      },
      "execution_count": 3,
      "outputs": []
    },
    {
      "cell_type": "markdown",
      "source": [
        "# 1. Exemplo frutos de maracujá"
      ],
      "metadata": {
        "id": "f3ldbABpQVMg"
      }
    },
    {
      "cell_type": "markdown",
      "source": [
        "Definindo dados de entrada"
      ],
      "metadata": {
        "id": "pSkDhUQ8RmWm"
      }
    },
    {
      "cell_type": "code",
      "execution_count": null,
      "metadata": {
        "colab": {
          "base_uri": "https://localhost:8080/",
          "height": 476
        },
        "id": "c7plOzJvaiHN",
        "outputId": "281b675f-f9bd-4505-ccf4-5109cd1b47ba"
      },
      "outputs": [
        {
          "output_type": "stream",
          "name": "stdout",
          "text": [
            "   Azul  Amarelo  Verde  Roxo  Vermelho\n",
            "0   222       88    146   294        28\n",
            "1   235      165    189   303       101\n",
            "2   188      131     87   207        87\n",
            "3   239       88    200   282       101\n",
            "4   165      159    245   199       121\n",
            "5   200      184    194   127       151\n",
            "6   138      170    196   121       131\n",
            "7   215      264     91   150        91\n",
            "8   135      182    295   273        81\n",
            "9   122      263    286   203       128\n"
          ]
        },
        {
          "output_type": "display_data",
          "data": {
            "text/plain": [
              "<Figure size 432x288 with 1 Axes>"
            ],
            "image/png": "[encoded data removed]"
          },
          "metadata": {
            "needs_background": "light"
          }
        }
      ],
      "source": [
        "import pandas as pd\n",
        "# load data file\n",
        "df = pd.read_csv(\"https://docs.google.com/spreadsheets/d/13vodzwV9PCpMOSfigELgUVugcwOPxofLh1OT7ydVlcQ/edit#gid=0\".replace('/edit#gid=', '/export?format=csv&gid='))\n",
        "print(df)\n",
        "# reshape the d dataframe suitable for statsmodels package \n",
        "df_melt = pd.melt(df.reset_index(), id_vars=['index'], value_vars=['Azul', 'Amarelo', 'Verde', 'Roxo', 'Vermelho'])\n",
        "# replace column names\n",
        "df_melt.columns = ['index', 'treatments', 'value']\n",
        "\n",
        "# generate a boxplot to see the data distribution by treatments. Using boxplot, we can \n",
        "# easily detect the differences between different treatments\n",
        "import matplotlib.pyplot as plt\n",
        "import seaborn as sns\n",
        "ax = sns.boxplot(x='treatments', y='value', data=df_melt, color='#99c2a2')\n",
        "ax = sns.swarmplot(x=\"treatments\", y=\"value\", data=df_melt, color='#7d0013')\n",
        "plt.show()"
      ]
    },
    {
      "cell_type": "markdown",
      "source": [
        "## Realizar teste F para teste de variância. P-valor é baixo"
      ],
      "metadata": {
        "id": "8pgjlKMdRrkO"
      }
    },
    {
      "cell_type": "code",
      "source": [
        "import scipy.stats as stats\n",
        "# stats f_oneway functions takes the groups as input and returns ANOVA F and p value\n",
        "fvalue, pvalue = stats.f_oneway(df['Azul'], df['Amarelo'], df['Verde'], df['Roxo'], df['Vermelho'])\n",
        "print(fvalue, pvalue)\n",
        "# 17.492810457516338 2.639241146210922e-05"
      ],
      "metadata": {
        "colab": {
          "base_uri": "https://localhost:8080/"
        },
        "id": "H9vNhrG-a0Ml",
        "outputId": "c3ed545b-38ba-4325-bcbd-b1e505218d5c"
      },
      "execution_count": null,
      "outputs": [
        {
          "output_type": "stream",
          "name": "stdout",
          "text": [
            "5.620547460587704 0.0009326998409205254\n"
          ]
        }
      ]
    },
    {
      "cell_type": "markdown",
      "source": [
        "### Realizar teste ANOVA para análise de variância. P-valor é baixo\n"
      ],
      "metadata": {
        "id": "PlH8Z7y7R0a1"
      }
    },
    {
      "cell_type": "code",
      "source": [
        "# get ANOVA table as R like output\n",
        "import statsmodels.api as sm\n",
        "from statsmodels.formula.api import ols\n",
        "\n",
        "# Ordinary Least Squares (OLS) model\n",
        "model = ols('value ~ C(treatments)', data=df_melt).fit()\n",
        "anova_table = sm.stats.anova_lm(model, typ=2)\n",
        "anova_table\n",
        "# output (ANOVA F and p value)"
      ],
      "metadata": {
        "colab": {
          "base_uri": "https://localhost:8080/",
          "height": 112
        },
        "id": "fQq0gtQejvc7",
        "outputId": "718283e0-e435-4b4c-9ffc-0b8dbd9d788f"
      },
      "execution_count": null,
      "outputs": [
        {
          "output_type": "execute_result",
          "data": {
            "text/plain": [
              "                  sum_sq    df         F    PR(>F)\n",
              "C(treatments)   74565.48   4.0  5.620547  0.000933\n",
              "Residual       149249.10  45.0       NaN       NaN"
            ],
            "text/html": [
              "\n",
              "  <div id=\"df-4b7c0fb9-1c2a-4b95-be10-db9c599c97b8\">\n",
              "    <div class=\"colab-df-container\">\n",
              "      <div>\n",
              "<style scoped>\n",
              "    .dataframe tbody tr th:only-of-type {\n",
              "        vertical-align: middle;\n",
              "    }\n",
              "\n",
              "    .dataframe tbody tr th {\n",
              "        vertical-align: top;\n",
              "    }\n",
              "\n",
              "    .dataframe thead th {\n",
              "        text-align: right;\n",
              "    }\n",
              "</style>\n",
              "<table border=\"1\" class=\"dataframe\">\n",
              "  <thead>\n",
              "    <tr style=\"text-align: right;\">\n",
              "      <th></th>\n",
              "      <th>sum_sq</th>\n",
              "      <th>df</th>\n",
              "      <th>F</th>\n",
              "      <th>PR(&gt;F)</th>\n",
              "    </tr>\n",
              "  </thead>\n",
              "  <tbody>\n",
              "    <tr>\n",
              "      <th>C(treatments)</th>\n",
              "      <td>74565.48</td>\n",
              "      <td>4.0</td>\n",
              "      <td>5.620547</td>\n",
              "      <td>0.000933</td>\n",
              "    </tr>\n",
              "    <tr>\n",
              "      <th>Residual</th>\n",
              "      <td>149249.10</td>\n",
              "      <td>45.0</td>\n",
              "      <td>NaN</td>\n",
              "      <td>NaN</td>\n",
              "    </tr>\n",
              "  </tbody>\n",
              "</table>\n",
              "</div>\n",
              "      <button class=\"colab-df-convert\" onclick=\"convertToInteractive('df-4b7c0fb9-1c2a-4b95-be10-db9c599c97b8')\"\n",
              "              title=\"Convert this dataframe to an interactive table.\"\n",
              "              style=\"display:none;\">\n",
              "        \n",
              "  <svg xmlns=\"http://www.w3.org/2000/svg\" height=\"24px\"viewBox=\"0 0 24 24\"\n",
              "       width=\"24px\">\n",
              "    <path d=\"M0 0h24v24H0V0z\" fill=\"none\"/>\n",
              "    <path d=\"M18.56 5.44l.94 2.06.94-2.06 2.06-.94-2.06-.94-.94-2.06-.94 2.06-2.06.94zm-11 1L8.5 8.5l.94-2.06 2.06-.94-2.06-.94L8.5 2.5l-.94 2.06-2.06.94zm10 10l.94 2.06.94-2.06 2.06-.94-2.06-.94-.94-2.06-.94 2.06-2.06.94z\"/><path d=\"M17.41 7.96l-1.37-1.37c-.4-.4-.92-.59-1.43-.59-.52 0-1.04.2-1.43.59L10.3 9.45l-7.72 7.72c-.78.78-.78 2.05 0 2.83L4 21.41c.39.39.9.59 1.41.59.51 0 1.02-.2 1.41-.59l7.78-7.78 2.81-2.81c.8-.78.8-2.07 0-2.86zM5.41 20L4 18.59l7.72-7.72 1.47 1.35L5.41 20z\"/>\n",
              "  </svg>\n",
              "      </button>\n",
              "      \n",
              "  <style>\n",
              "    .colab-df-container {\n",
              "      display:flex;\n",
              "      flex-wrap:wrap;\n",
              "      gap: 12px;\n",
              "    }\n",
              "\n",
              "    .colab-df-convert {\n",
              "      background-color: #E8F0FE;\n",
              "      border: none;\n",
              "      border-radius: 50%;\n",
              "      cursor: pointer;\n",
              "      display: none;\n",
              "      fill: #1967D2;\n",
              "      height: 32px;\n",
              "      padding: 0 0 0 0;\n",
              "      width: 32px;\n",
              "    }\n",
              "\n",
              "    .colab-df-convert:hover {\n",
              "      background-color: #E2EBFA;\n",
              "      box-shadow: 0px 1px 2px rgba(60, 64, 67, 0.3), 0px 1px 3px 1px rgba(60, 64, 67, 0.15);\n",
              "      fill: #174EA6;\n",
              "    }\n",
              "\n",
              "    [theme=dark] .colab-df-convert {\n",
              "      background-color: #3B4455;\n",
              "      fill: #D2E3FC;\n",
              "    }\n",
              "\n",
              "    [theme=dark] .colab-df-convert:hover {\n",
              "      background-color: #434B5C;\n",
              "      box-shadow: 0px 1px 3px 1px rgba(0, 0, 0, 0.15);\n",
              "      filter: drop-shadow(0px 1px 2px rgba(0, 0, 0, 0.3));\n",
              "      fill: #FFFFFF;\n",
              "    }\n",
              "  </style>\n",
              "\n",
              "      <script>\n",
              "        const buttonEl =\n",
              "          document.querySelector('#df-4b7c0fb9-1c2a-4b95-be10-db9c599c97b8 button.colab-df-convert');\n",
              "        buttonEl.style.display =\n",
              "          google.colab.kernel.accessAllowed ? 'block' : 'none';\n",
              "\n",
              "        async function convertToInteractive(key) {\n",
              "          const element = document.querySelector('#df-4b7c0fb9-1c2a-4b95-be10-db9c599c97b8');\n",
              "          const dataTable =\n",
              "            await google.colab.kernel.invokeFunction('convertToInteractive',\n",
              "                                                     [key], {});\n",
              "          if (!dataTable) return;\n",
              "\n",
              "          const docLinkHtml = 'Like what you see? Visit the ' +\n",
              "            '<a target=\"_blank\" href=https://colab.research.google.com/notebooks/data_table.ipynb>data table notebook</a>'\n",
              "            + ' to learn more about interactive tables.';\n",
              "          element.innerHTML = '';\n",
              "          dataTable['output_type'] = 'display_data';\n",
              "          await google.colab.output.renderOutput(dataTable, element);\n",
              "          const docLink = document.createElement('div');\n",
              "          docLink.innerHTML = docLinkHtml;\n",
              "          element.appendChild(docLink);\n",
              "        }\n",
              "      </script>\n",
              "    </div>\n",
              "  </div>\n",
              "  "
            ]
          },
          "metadata": {},
          "execution_count": 34
        }
      ]
    },
    {
      "cell_type": "markdown",
      "source": [
        "\n",
        "sum_sq - Soma dos quadrados para termos do modelo\n",
        "\n",
        "df -  Graus de liberdade\n",
        "\n",
        "F -  Estatística F para significância do modelo\n",
        "\n",
        "PR(>F) -   P-valor de significância ao adicionar modelos\n"
      ],
      "metadata": {
        "id": "QCOiFrAMnKM2"
      }
    },
    {
      "cell_type": "markdown",
      "source": [
        "## teste T-student para cada um em comparação com vermelho\n",
        "\n",
        "Todos com p-valor menor que 0.05 (0.025 unicaudal)"
      ],
      "metadata": {
        "id": "2GVRUE6ukiX7"
      }
    },
    {
      "cell_type": "code",
      "source": [
        "stats.ttest_ind(df['Azul'], df['Vermelho'])\n"
      ],
      "metadata": {
        "colab": {
          "base_uri": "https://localhost:8080/"
        },
        "id": "0XvRrWj_klET",
        "outputId": "5d790c94-e20e-4f31-9694-e20a483c5e09"
      },
      "execution_count": null,
      "outputs": [
        {
          "output_type": "execute_result",
          "data": {
            "text/plain": [
              "Ttest_indResult(statistic=4.7968621362452755, pvalue=0.00014438331162405495)"
            ]
          },
          "metadata": {},
          "execution_count": 42
        }
      ]
    },
    {
      "cell_type": "code",
      "source": [
        "#\n",
        "stats.levene(df['Azul'],\n",
        "             df['Vermelho'],\n",
        "             center= 'mean')"
      ],
      "metadata": {
        "colab": {
          "base_uri": "https://localhost:8080/"
        },
        "id": "C5yBq_eSLZmB",
        "outputId": "ecd277a4-2280-43a7-99dd-9fe06f6b853b"
      },
      "execution_count": null,
      "outputs": [
        {
          "output_type": "execute_result",
          "data": {
            "text/plain": [
              "LeveneResult(statistic=1.653033941190207, pvalue=0.2148416729485863)"
            ]
          },
          "metadata": {},
          "execution_count": 43
        }
      ]
    },
    {
      "cell_type": "code",
      "source": [
        "stats.ttest_ind(df['Amarelo'], df['Vermelho'])\n"
      ],
      "metadata": {
        "colab": {
          "base_uri": "https://localhost:8080/"
        },
        "id": "P2nD7EpnnU2n",
        "outputId": "5c76646c-7eb5-4bea-9a9c-e1712a4e5ac1"
      },
      "execution_count": null,
      "outputs": [
        {
          "output_type": "execute_result",
          "data": {
            "text/plain": [
              "Ttest_indResult(statistic=3.066439396093124, pvalue=0.006649560276819241)"
            ]
          },
          "metadata": {},
          "execution_count": 44
        }
      ]
    },
    {
      "cell_type": "code",
      "source": [
        "#\n",
        "stats.levene(df['Amarelo'],\n",
        "             df['Vermelho'],\n",
        "             center= 'mean')"
      ],
      "metadata": {
        "colab": {
          "base_uri": "https://localhost:8080/"
        },
        "id": "F8oC9DRBLmu5",
        "outputId": "a9f32d30-d994-4bdd-ac87-2409b44759b9"
      },
      "execution_count": null,
      "outputs": [
        {
          "output_type": "execute_result",
          "data": {
            "text/plain": [
              "LeveneResult(statistic=1.659156790860261, pvalue=0.21403041737801196)"
            ]
          },
          "metadata": {},
          "execution_count": 45
        }
      ]
    },
    {
      "cell_type": "code",
      "source": [
        "stats.ttest_ind(df['Verde'], df['Vermelho'])\n"
      ],
      "metadata": {
        "colab": {
          "base_uri": "https://localhost:8080/"
        },
        "id": "m1vNAnkwnUuX",
        "outputId": "422e6c5e-d3c2-4bbe-ff5e-e35316b39b9b"
      },
      "execution_count": null,
      "outputs": [
        {
          "output_type": "execute_result",
          "data": {
            "text/plain": [
              "Ttest_indResult(statistic=3.6368115035933033, pvalue=0.001886199501522774)"
            ]
          },
          "metadata": {},
          "execution_count": 46
        }
      ]
    },
    {
      "cell_type": "code",
      "source": [
        "# \n",
        "stats.levene(df['Verde'],\n",
        "             df['Vermelho'],\n",
        "             center= 'mean')"
      ],
      "metadata": {
        "colab": {
          "base_uri": "https://localhost:8080/"
        },
        "id": "9FoAZE-DLnnI",
        "outputId": "fe5affbd-aeba-4ea5-e29e-1878260ce6be"
      },
      "execution_count": null,
      "outputs": [
        {
          "output_type": "execute_result",
          "data": {
            "text/plain": [
              "LeveneResult(statistic=2.825960492348867, pvalue=0.11002072284074832)"
            ]
          },
          "metadata": {},
          "execution_count": 47
        }
      ]
    },
    {
      "cell_type": "code",
      "source": [
        "stats.ttest_ind(df['Roxo'], df['Vermelho'])\n"
      ],
      "metadata": {
        "colab": {
          "base_uri": "https://localhost:8080/"
        },
        "id": "SXFIq1_qnUkv",
        "outputId": "07886ba9-6e83-472d-a2fb-74f17ded3b47"
      },
      "execution_count": null,
      "outputs": [
        {
          "output_type": "execute_result",
          "data": {
            "text/plain": [
              "Ttest_indResult(statistic=4.665399673670335, pvalue=0.00019251360220707536)"
            ]
          },
          "metadata": {},
          "execution_count": 48
        }
      ]
    },
    {
      "cell_type": "code",
      "source": [
        "# \n",
        "stats.levene(df['Roxo'],\n",
        "             df['Vermelho'],\n",
        "             center= 'mean')"
      ],
      "metadata": {
        "colab": {
          "base_uri": "https://localhost:8080/"
        },
        "id": "RW6_RXQWLoXy",
        "outputId": "c2ac2ea6-38bc-403c-9746-3bf23bdf9d3c"
      },
      "execution_count": null,
      "outputs": [
        {
          "output_type": "execute_result",
          "data": {
            "text/plain": [
              "LeveneResult(statistic=6.87678951527063, pvalue=0.017267147368383414)"
            ]
          },
          "metadata": {},
          "execution_count": 49
        }
      ]
    },
    {
      "cell_type": "code",
      "source": [
        "stats.ttest_ind(df['Vermelho'], df['Vermelho'])"
      ],
      "metadata": {
        "colab": {
          "base_uri": "https://localhost:8080/"
        },
        "id": "3a_qmW1wnUTP",
        "outputId": "5f544430-dac0-4f6f-9f86-6b370eeec4b9"
      },
      "execution_count": null,
      "outputs": [
        {
          "output_type": "execute_result",
          "data": {
            "text/plain": [
              "Ttest_indResult(statistic=0.0, pvalue=1.0)"
            ]
          },
          "metadata": {},
          "execution_count": 50
        }
      ]
    },
    {
      "cell_type": "code",
      "source": [
        "# \n",
        "stats.levene(df['Vermelho'],\n",
        "             df['Vermelho'],\n",
        "             center= 'mean')"
      ],
      "metadata": {
        "colab": {
          "base_uri": "https://localhost:8080/"
        },
        "id": "aMuvvwF-LptL",
        "outputId": "c458f8a4-e442-4e47-e082-75273fc21623"
      },
      "execution_count": null,
      "outputs": [
        {
          "output_type": "execute_result",
          "data": {
            "text/plain": [
              "LeveneResult(statistic=0.0, pvalue=1.0)"
            ]
          },
          "metadata": {},
          "execution_count": 51
        }
      ]
    },
    {
      "cell_type": "markdown",
      "source": [
        "Podemos deduzir com base nisso que o vermelho é menor que 5% e o unico diferente            "
      ],
      "metadata": {
        "id": "tPIsjny4nlcm"
      }
    },
    {
      "cell_type": "markdown",
      "source": [
        "# EXEMPLO: Uma amostra com população\n",
        "\n",
        "> Problema: Temos a produção de batata de 12 fazendas diferentes. Sabemos que o rendimento padrão da batata para determinada variedade é µ=20.\n",
        "\n",
        "  * Queremos testar se o rendimento da batata dessas fazendas é significativamente melhor do que o rendimento padrão.\n",
        "\n",
        "  * n = 12\n",
        "\n",
        "  * df = n - 1 = 11\n",
        "\n",
        "  * alpha = 0.05 / nível de confiança de 95%\n",
        "\n",
        "  Passo 1: Definindo as hipóteses:\n",
        "    1. H0: µ_data = 20\n",
        "    2. H1: µ_data > 20\n",
        "\n",
        "  ref: https://www.machinelearningplus.com/statistics/one-sample-t-test/"
      ],
      "metadata": {
        "id": "pcm1p3xCahCp"
      }
    },
    {
      "cell_type": "code",
      "source": [
        "data = [21.5, 24.5, 18.5, 17.2, 14.5, 23.2, 22.1, 20.5, 19.4, 18.1, 24.1, 18.5]\n",
        "#data = np.random.normal(loc=20.0, scale=3.0, size=50)"
      ],
      "metadata": {
        "id": "kz-OIxo5aWDG"
      },
      "execution_count": null,
      "outputs": []
    },
    {
      "cell_type": "code",
      "source": [
        "# calculate mean and standard deviation\n",
        "data = np.asarray(data)\n",
        "media = np.mean(data)\n",
        "sd = np.std(data)\n",
        "\n",
        "print(f'mean: {media}| standard variance: {sd}')"
      ],
      "metadata": {
        "colab": {
          "base_uri": "https://localhost:8080/"
        },
        "id": "COU3YKBSccSS",
        "outputId": "519c66c6-452f-426f-db9a-70f56420d791"
      },
      "execution_count": null,
      "outputs": [
        {
          "output_type": "stream",
          "name": "stdout",
          "text": [
            "mean: 20.175| standard variance: 2.892555098870201\n"
          ]
        }
      ]
    },
    {
      "cell_type": "code",
      "source": [
        "#perform one sample t-test\n",
        "tscore, pvalue = stats.ttest_1samp(data, popmean=20)\n",
        "print(\"t Statistic: \", tscore)  \n",
        "print(\"P Value: \", pvalue)"
      ],
      "metadata": {
        "colab": {
          "base_uri": "https://localhost:8080/"
        },
        "id": "slHP-GYPamK5",
        "outputId": "05f97c08-1779-42da-d158-4ed262cd8c0c"
      },
      "execution_count": null,
      "outputs": [
        {
          "output_type": "stream",
          "name": "stdout",
          "text": [
            "t Statistic:  0.2006562773994862\n",
            "P Value:  0.8446291893053613\n"
          ]
        }
      ]
    },
    {
      "cell_type": "markdown",
      "source": [
        "> Lembrando que a função ttest_1samp() realiza um teste bicaudal por padrão. \n",
        "\n",
        "> Como é um teste unicaudal (de acordo com H1), o valor-p real é 0,8446/2 = 0,4223. \n",
        "\n",
        "> Não rejeitamos a hipótese nula."
      ],
      "metadata": {
        "id": "Qa-_LKCwapFv"
      }
    },
    {
      "cell_type": "markdown",
      "source": [
        "# INDEPENDENT T-TEST\n",
        "\n",
        "> Problema: Verificar se a pressão arterial média após tratamento de um grupo de homens e de mulheres possui diferença.\n",
        "\n",
        "> Suposições de teste paramétrico\n",
        "\n",
        "    * As distribuições populacionais são normais\n",
        "    * As amostras têm variações iguais\n",
        "    * As duas amostras são independentes\n",
        "\n",
        "    \n",
        "  * alpha = 0.05 / nível de confiança de 95%\n",
        "\n",
        "  Passo 1: Definindo as hipóteses:\n",
        "    1. H0: as médias pós tratamento, para homens e mulheres, são iguais.\n",
        "    2. H1: as médias pós tratamento, para homens e mulheres, são diferentes.\n",
        "\n",
        "ref : https://www.pythonfordatascience.org/independent-samples-t-test-python/"
      ],
      "metadata": {
        "id": "qs3J-nLCaupF"
      }
    },
    {
      "cell_type": "code",
      "source": [
        "# load data\n",
        "df = pd.read_csv(\"https://raw.githubusercontent.com/researchpy/Data-sets/master/blood_pressure.csv\")\n",
        "df.info()"
      ],
      "metadata": {
        "colab": {
          "base_uri": "https://localhost:8080/"
        },
        "id": "84ImEqLdiXKa",
        "outputId": "6efb58f3-b5c1-4295-ceb3-8e22982dcff5"
      },
      "execution_count": null,
      "outputs": [
        {
          "output_type": "stream",
          "name": "stdout",
          "text": [
            "<class 'pandas.core.frame.DataFrame'>\n",
            "RangeIndex: 120 entries, 0 to 119\n",
            "Data columns (total 5 columns):\n",
            " #   Column     Non-Null Count  Dtype \n",
            "---  ------     --------------  ----- \n",
            " 0   patient    120 non-null    int64 \n",
            " 1   sex        120 non-null    object\n",
            " 2   agegrp     120 non-null    object\n",
            " 3   bp_before  120 non-null    int64 \n",
            " 4   bp_after   120 non-null    int64 \n",
            "dtypes: int64(3), object(2)\n",
            "memory usage: 4.8+ KB\n"
          ]
        }
      ]
    },
    {
      "cell_type": "code",
      "source": [
        "male = df['bp_after'][df['sex'] == 'Male']\n",
        "female = df['bp_after'][df['sex'] == 'Female']\n",
        "#male = np.random.normal(loc=155.5, scale=15.24, size=50); male = pd.DataFrame(male, columns=['m'])['m'] \n",
        "#male = np.random.normal(loc=155.5, scale=13.24, size=50); male = pd.DataFrame(male, columns=['m'])['m'] \n",
        "#female = np.random.normal(loc=147.2, scale=11.74, size=50); female = pd.DataFrame(female, columns=['f'])['f'] \n",
        "#female = np.random.normal(loc=147.2, scale=12.74, size=50); female = pd.DataFrame(female, columns=['f'])['f'] \n"
      ],
      "metadata": {
        "id": "BmLHDw5wVUau"
      },
      "execution_count": null,
      "outputs": []
    },
    {
      "cell_type": "code",
      "source": [
        "# t test\n",
        "stats.ttest_ind(male, female)"
      ],
      "metadata": {
        "colab": {
          "base_uri": "https://localhost:8080/"
        },
        "id": "CUpWV4CZifWs",
        "outputId": "a57dea0a-b04d-4fe7-f347-5fc4b45f9613"
      },
      "execution_count": null,
      "outputs": [
        {
          "output_type": "execute_result",
          "data": {
            "text/plain": [
              "Ttest_indResult(statistic=3.3479506182111387, pvalue=0.0010930222986154283)"
            ]
          },
          "metadata": {},
          "execution_count": 26
        }
      ]
    },
    {
      "cell_type": "markdown",
      "source": [
        "> Existe uma diferença estatisticamente significativa na pressão arterial média pós tratamento entre homens e mulheres\n",
        "\n",
        "* t= 3,3480\n",
        "\n",
        "* p= 0,001"
      ],
      "metadata": {
        "id": "9JC0nRVwkG1k"
      }
    },
    {
      "cell_type": "markdown",
      "source": [
        "### Verificar normalidade"
      ],
      "metadata": {
        "id": "Re2XbsHlUJUR"
      }
    },
    {
      "cell_type": "code",
      "source": [
        "# ASSUMPTION CHECK\n",
        "# 1. normal distribution\n",
        "sampling_difference = male.values - \\\n",
        "                      female.values\n",
        "\n",
        "stats.shapiro(sampling_difference)\n",
        "\n",
        "#(W test statistic, p-value)"
      ],
      "metadata": {
        "colab": {
          "base_uri": "https://localhost:8080/"
        },
        "id": "QIoY3XZokYef",
        "outputId": "8e9230c8-a9dc-437b-9dbc-a1f95dbb17d5"
      },
      "execution_count": null,
      "outputs": [
        {
          "output_type": "execute_result",
          "data": {
            "text/plain": [
              "ShapiroResult(statistic=0.98586106300354, pvalue=0.7147841453552246)"
            ]
          },
          "metadata": {},
          "execution_count": 27
        }
      ]
    },
    {
      "cell_type": "markdown",
      "source": [
        "* O teste não é significativo, o que indica que a distribuição amostral é normalmente distribuída."
      ],
      "metadata": {
        "id": "Aq4qN-7Tkm9k"
      }
    },
    {
      "cell_type": "markdown",
      "source": [
        "> Visual check:\n",
        "  * útil quando a amostra é grande.\n",
        "\n",
        "Um método de verificar visualmente a distribuição é usar um gráfico de probabilidade com ou sem o valor de correlação, para avaliar a correlação dos valores observados com a distribuição teórica em questão - no caso atual, seria a distribuição gaussiana (também conhecida como normal).\n"
      ],
      "metadata": {
        "id": "A-hjJHW0kq5h"
      }
    },
    {
      "cell_type": "code",
      "source": [
        "# visual check of distribution\n",
        "fig = plt.figure() #figsize= (20, 10))\n",
        "ax = fig.add_subplot(111)\n",
        "\n",
        "normality_plot, stat = stats.probplot(sampling_difference, plot= plt, rvalue= True)\n",
        "ax.set_title(\"Probability plot of sampling difference\", fontsize= 20)\n",
        "ax.set\n",
        "\n",
        "plt.show()"
      ],
      "metadata": {
        "colab": {
          "base_uri": "https://localhost:8080/",
          "height": 300
        },
        "id": "B196-08Zkmzt",
        "outputId": "1f525702-9814-41c5-f619-817e7fe54436"
      },
      "execution_count": null,
      "outputs": [
        {
          "output_type": "display_data",
          "data": {
            "text/plain": [
              "<Figure size 432x288 with 1 Axes>"
            ],
            "image/png": "[encoded data removed]"
          },
          "metadata": {
            "needs_background": "light"
          }
        }
      ]
    },
    {
      "cell_type": "markdown",
      "source": [
        "### Verificar variâncias\n",
        "\n",
        "> Teste de homogeneidade de variâncias\n",
        "  * Uma das suposições é que ambos os grupos têm variâncias iguais. Um método para testar essa suposição é o teste de homogeneidade de variâncias de Levene."
      ],
      "metadata": {
        "id": "zDf-iWCZlYDt"
      }
    },
    {
      "cell_type": "code",
      "source": [
        "# 2. homogeneity of variance\n",
        "stats.levene(male,\n",
        "             female,\n",
        "             center= 'mean')"
      ],
      "metadata": {
        "colab": {
          "base_uri": "https://localhost:8080/"
        },
        "id": "LAGyDipRlN7X",
        "outputId": "d42e7d0b-8fdf-4631-d1ab-c3c86d1c0413"
      },
      "execution_count": null,
      "outputs": [
        {
          "output_type": "execute_result",
          "data": {
            "text/plain": [
              "LeveneResult(statistic=5.865854141268659, pvalue=0.01695904277978066)"
            ]
          },
          "metadata": {},
          "execution_count": 29
        }
      ]
    },
    {
      "cell_type": "markdown",
      "source": [
        "> Visual check II\n",
        "* O teste é significativo, o que indica que os grupos têm uma quantidade diferente de variação e que o teste t pode não ser o melhor método estatístico a ser usado. Novamente, pode valer a pena verificar essa suposição visualmente também."
      ],
      "metadata": {
        "id": "jVa0HNxklt1-"
      }
    },
    {
      "cell_type": "code",
      "source": [
        "fig = plt.figure() #figsize= (20, 10))\n",
        "ax = fig.add_subplot(111)\n",
        "\n",
        "\n",
        "p_bp_male = plt.hist(male, label= \"Male\",\n",
        "                     density= True,\n",
        "                     alpha=0.75)\n",
        "p_bp_female = plt.hist(female, label= \"Female\",\n",
        "                       density= True,\n",
        "                       alpha=0.75)\n",
        "\n",
        "\n",
        "plt.suptitle(\"Distribution of Post-Blood Pressure \\n between Males and Females\", fontsize= 14)\n",
        "plt.xlabel(\"Blood Pressure\", fontsize= 16)\n",
        "plt.ylabel(\"Probability density\", fontsize= 16)\n",
        "\n",
        "plt.text(133, .025,\n",
        "         f\"$\\mu= {female.mean(): .1f}, \\ \\sigma= {female.std(): .1f}$\")\n",
        "plt.text(160, .025,\n",
        "         f\"$\\mu= {male.mean(): .1f}, \\ \\sigma= {male.std(): .1f}$\")\n",
        "\n",
        "\n",
        "plt.show()"
      ],
      "metadata": {
        "colab": {
          "base_uri": "https://localhost:8080/",
          "height": 313
        },
        "id": "4Xe7FL_zlwaC",
        "outputId": "3767e3b7-9ffb-4921-f436-7806ccb02893"
      },
      "execution_count": null,
      "outputs": [
        {
          "output_type": "display_data",
          "data": {
            "text/plain": [
              "<Figure size 432x288 with 1 Axes>"
            ],
            "image/png": "[encoded data removed]"
          },
          "metadata": {
            "needs_background": "light"
          }
        }
      ]
    },
    {
      "cell_type": "markdown",
      "source": [
        "> Existem diferentes maneiras de lidar com a heteroscedasticidade (variância desigual). Algumas opções incluem, mas não estão limitadas a, transformar a variável dependente (resultado), usar médias aparadas, erros padrão robustos ou usar um teste paramétrico como o teste t de Welch."
      ],
      "metadata": {
        "id": "oVUNOMQ8mEuY"
      }
    },
    {
      "cell_type": "markdown",
      "source": [
        "# DEPENDENT T-TEST\n",
        "\n",
        "> Considerando que queremos saber se um óleo de motor impacta significativamente a quilometragem do carro de diferentes marcas. \n",
        "Para testar isso, temos inicialmente **10 carros** em uma garagem dopada com óleo de motor original. Anotamos sua quilometragem por 100 quilômetros cada. \n",
        "Em seguida, dopamos cada um dos carros com outro óleo de motor (diferente do original). Então, a quilometragem dos carros é calculada para 100 quilômetros cada. \n",
        "\n",
        "* Para comparar a diferença entre a quilometragem média do primeiro e do segundo teste, usamos um teste t de amostras pareadas porque, para cada carro, a pontuação do primeiro teste pode ser pareada com a pontuação do segundo teste.\n",
        "\n",
        "  * alpha = 0.05 / nível de confiança de 95%\n",
        "\n",
        "  Passo 1: Definindo as hipóteses:\n",
        "    1. H0: as médias pré-teste e pós-teste são iguais\n",
        "    2. H1: as médias pré-teste e pós-teste não são iguais\n",
        "\n",
        "ref: https://www.geeksforgeeks.org/how-to-conduct-a-paired-samples-t-test-in-python/\n"
      ],
      "metadata": {
        "id": "z6hMeQKWeuw1"
      }
    },
    {
      "cell_type": "code",
      "source": [
        "# pre holds the mileage before applying\n",
        "# the different engine oil\n",
        "pre = [88, 82, 84, 93, 75, 78, 84, 87,\n",
        "       95, 91, 83, 89, 77, 68, 91]\n",
        "#pre = np.random.normal(loc=84.3, scale=7.44, size=50)\n",
        "  \n",
        "# post holds the mileage before applying \n",
        "# the different engine oil\n",
        "post = [91, 84, 88, 90, 79, 80, 88, 90, \n",
        "        90, 96, 88, 89, 81, 74, 92]\n",
        "#post = np.random.normal(loc=86.6, scale=5.86, size=50)\n",
        "stats.ttest_rel(pre, post)"
      ],
      "metadata": {
        "id": "7dAdW8C6euUz",
        "colab": {
          "base_uri": "https://localhost:8080/"
        },
        "outputId": "c238aae6-b71e-4c2c-b68b-5cc6aa6fc94b"
      },
      "execution_count": null,
      "outputs": [
        {
          "output_type": "execute_result",
          "data": {
            "text/plain": [
              "Ttest_relResult(statistic=-2.9732484231168796, pvalue=0.01007144862643272)"
            ]
          },
          "metadata": {},
          "execution_count": 27
        }
      ]
    },
    {
      "cell_type": "code",
      "source": [
        "# pre holds the mileage before \n",
        "# applying the different engine oil\n",
        "pre = [30, 31, 34, 40, 36, 35,\n",
        "       34, 30, 28, 29]\n",
        "#pre = np.random.normal(loc=32.7, scale=3.74, size=50)\n",
        "  \n",
        "# post holds the mileage after \n",
        "# applying the different engine oil\n",
        "post = [30, 31, 32, 38, 32, 31,\n",
        "        32, 29, 28, 30]\n",
        "#pre = np.random.normal(loc=31.7, scale=2.71, size=50)\n",
        "  \n",
        "# Performing the paired sample t-test\n",
        "stats.ttest_rel(pre, post)"
      ],
      "metadata": {
        "colab": {
          "base_uri": "https://localhost:8080/"
        },
        "id": "vQZR82gYgYuC",
        "outputId": "2d5d4bee-b931-473c-ba99-d8360faaf28d"
      },
      "execution_count": 6,
      "outputs": [
        {
          "output_type": "execute_result",
          "data": {
            "text/plain": [
              "Ttest_relResult(statistic=2.584921310565987, pvalue=0.029457853822895275)"
            ]
          },
          "metadata": {},
          "execution_count": 6
        }
      ]
    },
    {
      "cell_type": "markdown",
      "source": [
        "> Como o valor-p é igual a 0,029, que é menor que 0,05, rejeitamos a hipótese nula. Portanto, não existe comprovação estatística de que a média real do teste é igual para carros antes e depois da aplicação do óleo de motor diferente."
      ],
      "metadata": {
        "id": "cByzA4_vgbgX"
      }
    }
  ]
}